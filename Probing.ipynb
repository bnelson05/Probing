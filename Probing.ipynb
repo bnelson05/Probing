{
  "nbformat": 4,
  "nbformat_minor": 0,
  "metadata": {
    "colab": {
      "provenance": [],
      "authorship_tag": "ABX9TyPa2vl25DOm9yAeXUmFgcGT",
      "include_colab_link": true
    },
    "kernelspec": {
      "name": "python3",
      "display_name": "Python 3"
    },
    "language_info": {
      "name": "python"
    }
  },
  "cells": [
    {
      "cell_type": "markdown",
      "metadata": {
        "id": "view-in-github",
        "colab_type": "text"
      },
      "source": [
        "<a href=\"https://colab.research.google.com/github/bnelson05/Probing/blob/main/Probing.ipynb\" target=\"_parent\"><img src=\"https://colab.research.google.com/assets/colab-badge.svg\" alt=\"Open In Colab\"/></a>"
      ]
    },
    {
      "cell_type": "markdown",
      "source": [
        "# Model and Data"
      ],
      "metadata": {
        "id": "L-NkXnM6GSqt"
      }
    },
    {
      "cell_type": "markdown",
      "source": [
        "# Pick a Pretrained Model\n",
        "For example, distilbert-base-uncased-finetuned-sst-2-english or textattack/bert-base-uncased-SST-2.\n",
        "\n",
        "Make sure you set it so it returns hidden states (e.g., output_hidden_states=True in the config/forward pass)."
      ],
      "metadata": {
        "id": "23ys8AiwGWP6"
      }
    },
    {
      "cell_type": "code",
      "source": [
        "!pip install datasets"
      ],
      "metadata": {
        "colab": {
          "base_uri": "https://localhost:8080/"
        },
        "id": "TdAMfovMOPMH",
        "outputId": "431e6e40-2957-4d2a-a470-219891c218e7"
      },
      "execution_count": 1,
      "outputs": [
        {
          "output_type": "stream",
          "name": "stdout",
          "text": [
            "Requirement already satisfied: datasets in /usr/local/lib/python3.11/dist-packages (3.3.2)\n",
            "Requirement already satisfied: filelock in /usr/local/lib/python3.11/dist-packages (from datasets) (3.17.0)\n",
            "Requirement already satisfied: numpy>=1.17 in /usr/local/lib/python3.11/dist-packages (from datasets) (1.26.4)\n",
            "Requirement already satisfied: pyarrow>=15.0.0 in /usr/local/lib/python3.11/dist-packages (from datasets) (18.1.0)\n",
            "Requirement already satisfied: dill<0.3.9,>=0.3.0 in /usr/local/lib/python3.11/dist-packages (from datasets) (0.3.8)\n",
            "Requirement already satisfied: pandas in /usr/local/lib/python3.11/dist-packages (from datasets) (2.2.2)\n",
            "Requirement already satisfied: requests>=2.32.2 in /usr/local/lib/python3.11/dist-packages (from datasets) (2.32.3)\n",
            "Requirement already satisfied: tqdm>=4.66.3 in /usr/local/lib/python3.11/dist-packages (from datasets) (4.67.1)\n",
            "Requirement already satisfied: xxhash in /usr/local/lib/python3.11/dist-packages (from datasets) (3.5.0)\n",
            "Requirement already satisfied: multiprocess<0.70.17 in /usr/local/lib/python3.11/dist-packages (from datasets) (0.70.16)\n",
            "Requirement already satisfied: fsspec<=2024.12.0,>=2023.1.0 in /usr/local/lib/python3.11/dist-packages (from fsspec[http]<=2024.12.0,>=2023.1.0->datasets) (2024.10.0)\n",
            "Requirement already satisfied: aiohttp in /usr/local/lib/python3.11/dist-packages (from datasets) (3.11.13)\n",
            "Requirement already satisfied: huggingface-hub>=0.24.0 in /usr/local/lib/python3.11/dist-packages (from datasets) (0.28.1)\n",
            "Requirement already satisfied: packaging in /usr/local/lib/python3.11/dist-packages (from datasets) (24.2)\n",
            "Requirement already satisfied: pyyaml>=5.1 in /usr/local/lib/python3.11/dist-packages (from datasets) (6.0.2)\n",
            "Requirement already satisfied: aiohappyeyeballs>=2.3.0 in /usr/local/lib/python3.11/dist-packages (from aiohttp->datasets) (2.5.0)\n",
            "Requirement already satisfied: aiosignal>=1.1.2 in /usr/local/lib/python3.11/dist-packages (from aiohttp->datasets) (1.3.2)\n",
            "Requirement already satisfied: attrs>=17.3.0 in /usr/local/lib/python3.11/dist-packages (from aiohttp->datasets) (25.1.0)\n",
            "Requirement already satisfied: frozenlist>=1.1.1 in /usr/local/lib/python3.11/dist-packages (from aiohttp->datasets) (1.5.0)\n",
            "Requirement already satisfied: multidict<7.0,>=4.5 in /usr/local/lib/python3.11/dist-packages (from aiohttp->datasets) (6.1.0)\n",
            "Requirement already satisfied: propcache>=0.2.0 in /usr/local/lib/python3.11/dist-packages (from aiohttp->datasets) (0.3.0)\n",
            "Requirement already satisfied: yarl<2.0,>=1.17.0 in /usr/local/lib/python3.11/dist-packages (from aiohttp->datasets) (1.18.3)\n",
            "Requirement already satisfied: typing-extensions>=3.7.4.3 in /usr/local/lib/python3.11/dist-packages (from huggingface-hub>=0.24.0->datasets) (4.12.2)\n",
            "Requirement already satisfied: charset-normalizer<4,>=2 in /usr/local/lib/python3.11/dist-packages (from requests>=2.32.2->datasets) (3.4.1)\n",
            "Requirement already satisfied: idna<4,>=2.5 in /usr/local/lib/python3.11/dist-packages (from requests>=2.32.2->datasets) (3.10)\n",
            "Requirement already satisfied: urllib3<3,>=1.21.1 in /usr/local/lib/python3.11/dist-packages (from requests>=2.32.2->datasets) (2.3.0)\n",
            "Requirement already satisfied: certifi>=2017.4.17 in /usr/local/lib/python3.11/dist-packages (from requests>=2.32.2->datasets) (2025.1.31)\n",
            "Requirement already satisfied: python-dateutil>=2.8.2 in /usr/local/lib/python3.11/dist-packages (from pandas->datasets) (2.8.2)\n",
            "Requirement already satisfied: pytz>=2020.1 in /usr/local/lib/python3.11/dist-packages (from pandas->datasets) (2025.1)\n",
            "Requirement already satisfied: tzdata>=2022.7 in /usr/local/lib/python3.11/dist-packages (from pandas->datasets) (2025.1)\n",
            "Requirement already satisfied: six>=1.5 in /usr/local/lib/python3.11/dist-packages (from python-dateutil>=2.8.2->pandas->datasets) (1.17.0)\n"
          ]
        }
      ]
    },
    {
      "cell_type": "code",
      "source": [
        "from transformers import AutoModelForSequenceClassification, AutoTokenizer\n",
        "\n",
        "model_name = \"distilbert-base-uncased-finetuned-sst-2-english\"\n",
        "tokenizer = AutoTokenizer.from_pretrained(model_name)\n",
        "\n",
        "model = AutoModelForSequenceClassification.from_pretrained(model_name)\n",
        "model.config.output_hidden_states = True\n",
        "model.eval()"
      ],
      "metadata": {
        "id": "8HDMs2TpGbWy",
        "colab": {
          "base_uri": "https://localhost:8080/"
        },
        "outputId": "4cfe8330-5df0-40b6-dc77-26ba5042d148"
      },
      "execution_count": 2,
      "outputs": [
        {
          "output_type": "stream",
          "name": "stderr",
          "text": [
            "/usr/local/lib/python3.11/dist-packages/huggingface_hub/utils/_auth.py:94: UserWarning: \n",
            "The secret `HF_TOKEN` does not exist in your Colab secrets.\n",
            "To authenticate with the Hugging Face Hub, create a token in your settings tab (https://huggingface.co/settings/tokens), set it as secret in your Google Colab and restart your session.\n",
            "You will be able to reuse this secret in all of your notebooks.\n",
            "Please note that authentication is recommended but still optional to access public models or datasets.\n",
            "  warnings.warn(\n"
          ]
        },
        {
          "output_type": "execute_result",
          "data": {
            "text/plain": [
              "DistilBertForSequenceClassification(\n",
              "  (distilbert): DistilBertModel(\n",
              "    (embeddings): Embeddings(\n",
              "      (word_embeddings): Embedding(30522, 768, padding_idx=0)\n",
              "      (position_embeddings): Embedding(512, 768)\n",
              "      (LayerNorm): LayerNorm((768,), eps=1e-12, elementwise_affine=True)\n",
              "      (dropout): Dropout(p=0.1, inplace=False)\n",
              "    )\n",
              "    (transformer): Transformer(\n",
              "      (layer): ModuleList(\n",
              "        (0-5): 6 x TransformerBlock(\n",
              "          (attention): DistilBertSdpaAttention(\n",
              "            (dropout): Dropout(p=0.1, inplace=False)\n",
              "            (q_lin): Linear(in_features=768, out_features=768, bias=True)\n",
              "            (k_lin): Linear(in_features=768, out_features=768, bias=True)\n",
              "            (v_lin): Linear(in_features=768, out_features=768, bias=True)\n",
              "            (out_lin): Linear(in_features=768, out_features=768, bias=True)\n",
              "          )\n",
              "          (sa_layer_norm): LayerNorm((768,), eps=1e-12, elementwise_affine=True)\n",
              "          (ffn): FFN(\n",
              "            (dropout): Dropout(p=0.1, inplace=False)\n",
              "            (lin1): Linear(in_features=768, out_features=3072, bias=True)\n",
              "            (lin2): Linear(in_features=3072, out_features=768, bias=True)\n",
              "            (activation): GELUActivation()\n",
              "          )\n",
              "          (output_layer_norm): LayerNorm((768,), eps=1e-12, elementwise_affine=True)\n",
              "        )\n",
              "      )\n",
              "    )\n",
              "  )\n",
              "  (pre_classifier): Linear(in_features=768, out_features=768, bias=True)\n",
              "  (classifier): Linear(in_features=768, out_features=2, bias=True)\n",
              "  (dropout): Dropout(p=0.2, inplace=False)\n",
              ")"
            ]
          },
          "metadata": {},
          "execution_count": 2
        }
      ]
    },
    {
      "cell_type": "markdown",
      "source": [
        "# Choose a Dataset\n",
        "You can reuse an SST-2 dev/test split or a small subset of IMDB reviews—just keep it manageable (few hundred samples).\n",
        "\n",
        "If you want to see domain differences, pick something that differs from the model’s training domain."
      ],
      "metadata": {
        "id": "AHpkq-rBGb41"
      }
    },
    {
      "cell_type": "code",
      "source": [
        "from datasets import load_dataset\n",
        "\n",
        "imdb_ds = load_dataset(\"imdb\")\n",
        "train_subset = imdb_ds[\"train\"].shuffle(seed=42).select(range(300))\n",
        "test_subset = imdb_ds[\"test\"].shuffle(seed=42).select(range(300))"
      ],
      "metadata": {
        "id": "bhHbgDwZGeyK"
      },
      "execution_count": 3,
      "outputs": []
    },
    {
      "cell_type": "markdown",
      "source": [
        "# Extract Hidden States"
      ],
      "metadata": {
        "id": "kGKh1PPFNY6E"
      }
    },
    {
      "cell_type": "markdown",
      "source": [
        "# Forward Pass\n",
        "Tokenize each sentence, call model(**inputs), and ensure you’re receiving outputs.hidden_states."
      ],
      "metadata": {
        "id": "LdJ7HUDYNcc7"
      }
    },
    {
      "cell_type": "markdown",
      "source": [
        "# Layer Representation\n",
        "For each sample, you’ll get a tuple of hidden states (like one for each layer).\n",
        "\n",
        "Decide how to get a single vector for the sentence:\n",
        "\n",
        "*   If it’s BERT, you can grab the [CLS] token’s embedding.\n",
        "*   Or average the token embeddings if there’s no [CLS]."
      ],
      "metadata": {
        "id": "QFzszbedNiI9"
      }
    },
    {
      "cell_type": "markdown",
      "source": [
        "Save those embeddings (e.g., shape = [num_samples, hidden_dim]) for each layer, plus the true label."
      ],
      "metadata": {
        "id": "GaoKPcEcNwbf"
      }
    },
    {
      "cell_type": "code",
      "source": [
        "def get_hidden_states(subset):\n",
        "  # ensures all layers including input embeddings are accounted for\n",
        "  num_layers = model.config.num_hidden_layers + 1\n",
        "  embeddings = [[] for _ in range(num_layers)]\n",
        "  true_labels = []\n",
        "\n",
        "  with torch.no_grad():\n",
        "    for example in subset:\n",
        "      sentence = example[\"text\"]\n",
        "      label = example[\"label\"]\n",
        "\n",
        "      # converts for model suitable input\n",
        "      inputs = tokenizer(sentence, return_tensors=\"pt\", truncation = True, max_length = 512)\n",
        "      outputs = model(**inputs)\n",
        "      hidden_states_received = outputs.hidden_states\n",
        "\n",
        "      for i, layer in enumerate(hidden_states_received):\n",
        "        # the CLS encodes information about the entire sentence\n",
        "        # [batch, tokens, hidden_dim]\n",
        "        cls = layer[0, 0, :].detach().cpu()\n",
        "        embeddings[i].append(cls)\n",
        "\n",
        "      true_labels.append(label)\n",
        "\n",
        "  return embeddings, true_labels"
      ],
      "metadata": {
        "id": "jFq4Wq6tNyHu"
      },
      "execution_count": 7,
      "outputs": []
    },
    {
      "cell_type": "markdown",
      "source": [
        "# Training a Probe"
      ],
      "metadata": {
        "id": "ymGtculeNzsr"
      }
    },
    {
      "cell_type": "markdown",
      "source": [
        "# Logistic Regression\n",
        "For each layer L, gather all embeddings into an (N, hidden_dim) array, with N = number of sentences.\n",
        "\n",
        "Train a logistic regression (or SVM) to predict positive/negative."
      ],
      "metadata": {
        "id": "Tcc4lzVnN5Pk"
      }
    },
    {
      "cell_type": "code",
      "source": [
        "import torch\n",
        "import torch.nn as nn\n",
        "import torch.optim as optim\n",
        "import numpy as np\n",
        "import matplotlib.pyplot as plt\n",
        "\n",
        "class LogisticRegression(nn.Module):\n",
        "  def __init__(self, input_dim):\n",
        "    super(LogisticRegression, self).__init__()\n",
        "    self.linear = nn.Linear(input_dim, 1)\n",
        "\n",
        "  def forward(self, x):\n",
        "    return self.linear(x).squeeze(-1)\n",
        "\n",
        "def train_probe(hiddenStates, labels):\n",
        "  layer_acc = {}\n",
        "  trained_probes = {}\n",
        "  num_layers = len(hiddenStates)\n",
        "\n",
        "  for layer in range(num_layers):\n",
        "    X_train = hiddenStates[layer]\n",
        "    y_train = torch.tensor(labels, dtype = torch.float32)\n",
        "\n",
        "    model = LogisticRegression(X_train.shape[1])\n",
        "    criterion = nn.BCEWithLogitsLoss()\n",
        "    optimizer = optim.Adam(model.parameters(), lr=0.01)\n",
        "\n",
        "    for epoch in range(50):\n",
        "      optimizer.zero_grad()\n",
        "      outputs = model(X_train)\n",
        "      loss = criterion(outputs, y_train)\n",
        "      loss.backward()\n",
        "      optimizer.step()\n",
        "\n",
        "    with torch.no_grad():\n",
        "      predictions = (torch.sigmoid(model(X_train)) > 0.5).float()\n",
        "      accuracy = (predictions == y_train).float().mean().item()\n",
        "      layer_acc[layer] = accuracy\n",
        "      trained_probes[layer] = model\n",
        "\n",
        "  return trained_probes\n",
        "\n",
        "def evaluate_probe(trainedProbes, hiddenStates, labels):\n",
        "  layer_acc = {}\n",
        "  num_layers = len(hiddenStates)\n",
        "\n",
        "  for layer in range(num_layers):\n",
        "    X_test = hiddenStates[layer]\n",
        "    y_test = torch.tensor(labels, dtype = torch.float32)\n",
        "\n",
        "    model = trainedProbes[layer]\n",
        "\n",
        "    with torch.no_grad():\n",
        "      predictions = (torch.sigmoid(model(X_test)) > 0.5).float()\n",
        "      accuracy = (predictions == y_test).float().mean().item()\n",
        "      layer_acc[layer] = accuracy\n",
        "\n",
        "    print(f\"Test Layer {layer} -- Accuracy: {accuracy: .4f}\")\n",
        "\n",
        "  layers = list(layer_acc.keys())\n",
        "  accuracies = list(layer_acc.values())\n",
        "\n",
        "  plt.figure(figsize = (10, 5))\n",
        "  plt.plot(layers, accuracies, marker = 'o', linestyle = '-', label = \"Test Accuracy\")\n",
        "  plt.xlabel(\"Layer\")\n",
        "  plt.ylabel(\"Accuracy\")\n",
        "  plt.title(\"Layer-wise Sentiment Prediction Accuracy (Test Set)\")\n",
        "  plt.grid()\n",
        "  plt.show()\n"
      ],
      "metadata": {
        "id": "rr5wjsR6N3VL"
      },
      "execution_count": 9,
      "outputs": []
    },
    {
      "cell_type": "code",
      "source": [
        "train_embeddings, train_labels = get_hidden_states(train_subset)\n",
        "trainHiddenStates = [torch.stack(layer) for layer in train_embeddings]\n",
        "trained_probes = train_probe(trainHiddenStates, train_labels)\n",
        "\n",
        "test_embeddings, test_labels = get_hidden_states(test_subset)\n",
        "testHiddenStates = [torch.stack(layer) for layer in test_embeddings]\n",
        "evaluate_probe(trained_probes, testHiddenStates, test_labels)"
      ],
      "metadata": {
        "colab": {
          "base_uri": "https://localhost:8080/",
          "height": 609
        },
        "id": "HouYiF-oi75r",
        "outputId": "86b2c093-dd4d-4e45-88d4-c56f2db9025f"
      },
      "execution_count": 10,
      "outputs": [
        {
          "output_type": "stream",
          "name": "stdout",
          "text": [
            "Test Layer 0 -- Accuracy:  0.5000\n",
            "Test Layer 1 -- Accuracy:  0.6267\n",
            "Test Layer 2 -- Accuracy:  0.6867\n",
            "Test Layer 3 -- Accuracy:  0.7267\n",
            "Test Layer 4 -- Accuracy:  0.7367\n",
            "Test Layer 5 -- Accuracy:  0.8300\n",
            "Test Layer 6 -- Accuracy:  0.8833\n"
          ]
        },
        {
          "output_type": "display_data",
          "data": {
            "text/plain": [
              "<Figure size 1000x500 with 1 Axes>"
            ],
            "image/png": "[encoded data removed]"
          },
          "metadata": {}
        }
      ]
    },
    {
      "cell_type": "markdown",
      "source": [
        "# Analysis & Write-Up"
      ],
      "metadata": {
        "id": "A33B7fCEOAUF"
      }
    },
    {
      "cell_type": "markdown",
      "source": [
        "Overall, the final layer shows the highest accuracy. If my 8th layer were to show strong attention to sentiment words in the 8th layer, I would also see higher accuracy for that layer. However, this doesn't necessarily indicate that this is the highest accuracy possible.\n",
        "\n",
        "Something that surprised me was how the accuracy changed at the 4th layer. I would think that a model's performance would steadily improve. This might be because the lower layers could be focusing on basic features of a sentence, such as syntax, while the higher layers could be focusing on the sentiment of words."
      ],
      "metadata": {
        "id": "lLp5STc29N7g"
      }
    }
  ]
}